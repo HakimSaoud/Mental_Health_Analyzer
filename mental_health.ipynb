{
 "cells": [
  {
   "cell_type": "code",
   "id": "initial_id",
   "metadata": {
    "collapsed": true,
    "ExecuteTime": {
     "end_time": "2025-02-27T22:18:54.672989Z",
     "start_time": "2025-02-27T22:18:54.669320Z"
    }
   },
   "source": [
    "import nltk\n",
    "import pandas as pd\n",
    "import matplotlib.pyplot as plt"
   ],
   "outputs": [],
   "execution_count": 9
  },
  {
   "metadata": {
    "ExecuteTime": {
     "end_time": "2025-02-27T22:17:32.996729Z",
     "start_time": "2025-02-27T22:17:32.258989Z"
    }
   },
   "cell_type": "code",
   "source": [
    "df = pd.read_csv('train.csv')\n",
    "df.head(10)"
   ],
   "id": "c5441864e8205162",
   "outputs": [
    {
     "data": {
      "text/plain": [
       "      id                                          title  \\\n",
       "0  11098                            Getting of the weed   \n",
       "1    116  Seeking advice on how to face a hospital stay   \n",
       "2   7189              Trying to re-enter the work place   \n",
       "3   4350                       Family history of cancer   \n",
       "4   9749     Inappropriate relationship with therapist.   \n",
       "5  21263              Choosing who you real friends are   \n",
       "6    301                                    Struggling!   \n",
       "7    147                                    Resignation   \n",
       "8   3434          How do I cope with my father's death?   \n",
       "9  18481                                     what to do   \n",
       "\n",
       "                                             content  \\\n",
       "0  [Post removed at request of member]\\nHi, welco...   \n",
       "1  Hi NMTB,\\nThanks for your post. \\nI think a lo...   \n",
       "2  Hello, \\nI’m Cas and for a fair while now I ha...   \n",
       "3  Hey everyone.\\nI've just discovered that anoth...   \n",
       "4  Hi everyone\\nI guess the title says it all rea...   \n",
       "5                                                NaN   \n",
       "6  Does anyone have any experience dealing with y...   \n",
       "7  Hi everyone I want to leave my job \\nthe stres...   \n",
       "8  Hi Rainbow bird and welcome to Beyond Blue for...   \n",
       "9  Hi ,\\nMy nana had dementia too she used to sta...   \n",
       "\n",
       "                            target  \n",
       "0  suicidal-thoughts-and-self-harm  \n",
       "1                          anxiety  \n",
       "2                          anxiety  \n",
       "3                          anxiety  \n",
       "4                       depression  \n",
       "5                       depression  \n",
       "6   relationship-and-family-issues  \n",
       "7                       depression  \n",
       "8   relationship-and-family-issues  \n",
       "9                       depression  "
      ],
      "text/html": [
       "<div>\n",
       "<style scoped>\n",
       "    .dataframe tbody tr th:only-of-type {\n",
       "        vertical-align: middle;\n",
       "    }\n",
       "\n",
       "    .dataframe tbody tr th {\n",
       "        vertical-align: top;\n",
       "    }\n",
       "\n",
       "    .dataframe thead th {\n",
       "        text-align: right;\n",
       "    }\n",
       "</style>\n",
       "<table border=\"1\" class=\"dataframe\">\n",
       "  <thead>\n",
       "    <tr style=\"text-align: right;\">\n",
       "      <th></th>\n",
       "      <th>id</th>\n",
       "      <th>title</th>\n",
       "      <th>content</th>\n",
       "      <th>target</th>\n",
       "    </tr>\n",
       "  </thead>\n",
       "  <tbody>\n",
       "    <tr>\n",
       "      <th>0</th>\n",
       "      <td>11098</td>\n",
       "      <td>Getting of the weed</td>\n",
       "      <td>[Post removed at request of member]\\nHi, welco...</td>\n",
       "      <td>suicidal-thoughts-and-self-harm</td>\n",
       "    </tr>\n",
       "    <tr>\n",
       "      <th>1</th>\n",
       "      <td>116</td>\n",
       "      <td>Seeking advice on how to face a hospital stay</td>\n",
       "      <td>Hi NMTB,\\nThanks for your post. \\nI think a lo...</td>\n",
       "      <td>anxiety</td>\n",
       "    </tr>\n",
       "    <tr>\n",
       "      <th>2</th>\n",
       "      <td>7189</td>\n",
       "      <td>Trying to re-enter the work place</td>\n",
       "      <td>Hello, \\nI’m Cas and for a fair while now I ha...</td>\n",
       "      <td>anxiety</td>\n",
       "    </tr>\n",
       "    <tr>\n",
       "      <th>3</th>\n",
       "      <td>4350</td>\n",
       "      <td>Family history of cancer</td>\n",
       "      <td>Hey everyone.\\nI've just discovered that anoth...</td>\n",
       "      <td>anxiety</td>\n",
       "    </tr>\n",
       "    <tr>\n",
       "      <th>4</th>\n",
       "      <td>9749</td>\n",
       "      <td>Inappropriate relationship with therapist.</td>\n",
       "      <td>Hi everyone\\nI guess the title says it all rea...</td>\n",
       "      <td>depression</td>\n",
       "    </tr>\n",
       "    <tr>\n",
       "      <th>5</th>\n",
       "      <td>21263</td>\n",
       "      <td>Choosing who you real friends are</td>\n",
       "      <td>NaN</td>\n",
       "      <td>depression</td>\n",
       "    </tr>\n",
       "    <tr>\n",
       "      <th>6</th>\n",
       "      <td>301</td>\n",
       "      <td>Struggling!</td>\n",
       "      <td>Does anyone have any experience dealing with y...</td>\n",
       "      <td>relationship-and-family-issues</td>\n",
       "    </tr>\n",
       "    <tr>\n",
       "      <th>7</th>\n",
       "      <td>147</td>\n",
       "      <td>Resignation</td>\n",
       "      <td>Hi everyone I want to leave my job \\nthe stres...</td>\n",
       "      <td>depression</td>\n",
       "    </tr>\n",
       "    <tr>\n",
       "      <th>8</th>\n",
       "      <td>3434</td>\n",
       "      <td>How do I cope with my father's death?</td>\n",
       "      <td>Hi Rainbow bird and welcome to Beyond Blue for...</td>\n",
       "      <td>relationship-and-family-issues</td>\n",
       "    </tr>\n",
       "    <tr>\n",
       "      <th>9</th>\n",
       "      <td>18481</td>\n",
       "      <td>what to do</td>\n",
       "      <td>Hi ,\\nMy nana had dementia too she used to sta...</td>\n",
       "      <td>depression</td>\n",
       "    </tr>\n",
       "  </tbody>\n",
       "</table>\n",
       "</div>"
      ]
     },
     "execution_count": 7,
     "metadata": {},
     "output_type": "execute_result"
    }
   ],
   "execution_count": 7
  },
  {
   "metadata": {
    "ExecuteTime": {
     "end_time": "2025-02-27T22:34:56.264061Z",
     "start_time": "2025-02-27T22:34:56.258121Z"
    }
   },
   "cell_type": "code",
   "source": "df['content']",
   "id": "834b1115c0a69246",
   "outputs": [
    {
     "data": {
      "text/plain": [
       "0        [Post removed at request of member]\\nHi, welco...\n",
       "1        Hi NMTB,\\nThanks for your post. \\nI think a lo...\n",
       "2        Hello, \\nI’m Cas and for a fair while now I ha...\n",
       "3        Hey everyone.\\nI've just discovered that anoth...\n",
       "4        Hi everyone\\nI guess the title says it all rea...\n",
       "                               ...                        \n",
       "22146    I've recently had a miscarriage and didn't eve...\n",
       "22147    Gods, I wonder sometimes what I did in this li...\n",
       "22148    Firstly hello to all and thankyou for the oppo...\n",
       "22149    SO I left my home 05.02 and moved away and he ...\n",
       "22150    Hi,\\n \\nI was just wondering how many people h...\n",
       "Name: content, Length: 22151, dtype: object"
      ]
     },
     "execution_count": 44,
     "metadata": {},
     "output_type": "execute_result"
    }
   ],
   "execution_count": 44
  },
  {
   "metadata": {
    "ExecuteTime": {
     "end_time": "2025-02-27T22:26:00.530200Z",
     "start_time": "2025-02-27T22:26:00.525316Z"
    }
   },
   "cell_type": "code",
   "source": [
    "nltk.download('stopwords')\n",
    "nltk.download('punkt')\n",
    "en_stopwords = set(nltk.corpus.stopwords.words('english'))\n",
    "punctuations = '''!()-[]{};:'\"\\,<>./?@#$%^&*_~'''"
   ],
   "id": "19d9e8421dd58f7f",
   "outputs": [
    {
     "name": "stderr",
     "output_type": "stream",
     "text": [
      "<>:4: SyntaxWarning: invalid escape sequence '\\,'\n",
      "<>:4: SyntaxWarning: invalid escape sequence '\\,'\n",
      "/var/folders/sj/1sc2cjnx2pl0z9bwbq6nqg1m0000gp/T/ipykernel_2264/629839193.py:4: SyntaxWarning: invalid escape sequence '\\,'\n",
      "  punctuations = '''!()-[]{};:'\"\\,<>./?@#$%^&*_~'''\n",
      "[nltk_data] Downloading package stopwords to\n",
      "[nltk_data]     /Users/macbook/nltk_data...\n",
      "[nltk_data]   Package stopwords is already up-to-date!\n",
      "[nltk_data] Downloading package punkt to /Users/macbook/nltk_data...\n",
      "[nltk_data]   Package punkt is already up-to-date!\n"
     ]
    }
   ],
   "execution_count": 27
  },
  {
   "metadata": {},
   "cell_type": "code",
   "outputs": [],
   "execution_count": null,
   "source": "",
   "id": "e3624c31711680dd"
  }
 ],
 "metadata": {
  "kernelspec": {
   "display_name": "Python 3",
   "language": "python",
   "name": "python3"
  },
  "language_info": {
   "codemirror_mode": {
    "name": "ipython",
    "version": 2
   },
   "file_extension": ".py",
   "mimetype": "text/x-python",
   "name": "python",
   "nbconvert_exporter": "python",
   "pygments_lexer": "ipython2",
   "version": "2.7.6"
  }
 },
 "nbformat": 4,
 "nbformat_minor": 5
}
